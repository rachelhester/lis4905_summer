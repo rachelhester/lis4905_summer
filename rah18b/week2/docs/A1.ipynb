{
 "cells": [
  {
   "cell_type": "markdown",
   "id": "29f50833",
   "metadata": {},
   "source": [
    "### Tip Calculator\n",
    "\n",
    "**Author**: Rachel Hester\n",
    "**Class**: LIS4905: Enterprise Application Solutions\n",
    "**Semester**: Summer 2021\n",
    "\n",
    "**Program Requirements**:\n",
    "\n",
    "\n",
    "    1. Must use float data type for user input except, \"Party Number\"\n",
    "    2. Must round calculations to two decimal places.\n",
    "    3. Must format currency with dollar sign, and two decimal places\n",
    "\n",
    "\n"
   ]
  },
  {
   "cell_type": "code",
   "execution_count": 1,
   "id": "9539fce8",
   "metadata": {},
   "outputs": [
    {
     "name": "stdout",
     "output_type": "stream",
     "text": [
      "\n",
      "User Input:\n",
      "Cost of meal:500\n",
      "Tax percent: 10\n",
      "Tip percent: 20\n",
      "Party number: 5\n"
     ]
    }
   ],
   "source": [
    "print(\"\\nUser Input:\")\n",
    "meal_cost = float(input(\"Cost of meal:\"))\n",
    "tax_percent = float(input(\"Tax percent: \"))\n",
    "tip_percent = float(input(\"Tip percent: \"))\n",
    "people_num = int(float(input(\"Party number: \")))"
   ]
  },
  {
   "cell_type": "code",
   "execution_count": 2,
   "id": "c84d8eaa",
   "metadata": {},
   "outputs": [],
   "source": [
    "#calculating tax, tip and total amounts:\n",
    "tax_amount = round(meal_cost * (tax_percent/100), 2)\n",
    "due_amount = round(meal_cost + tax_amount, 2)\n",
    "tip_amount = round((due_amount) * (tip_percent / 100), 2)\n",
    "\n",
    "#percentage of cost and tax\n",
    "total = round(meal_cost * (tax_percent / 100), 2)\n",
    "split = round(total / people_num, 2)"
   ]
  },
  {
   "cell_type": "code",
   "execution_count": 3,
   "id": "9c8b4b7a",
   "metadata": {},
   "outputs": [
    {
     "name": "stdout",
     "output_type": "stream",
     "text": [
      "\n",
      "Program Output:\n",
      "Subtotal:\t $500.00\n",
      "Tax:\t\t $50.00\n",
      "Amount due:\t $550.00\n",
      "Gratuity:\t $110.00\n",
      "Split (5):\t $10.00\n"
     ]
    }
   ],
   "source": [
    "# display results w/proper formatting from video\n",
    "print(\"\\nProgram Output:\")\n",
    "print(\"Subtotal:\\t\", \"${0:,.2f}\".format(meal_cost)) \n",
    "print(\"Tax:\\t\\t\", \"${0:,.2f}\".format(tax_amount))\n",
    "print(\"Amount due:\\t\", \"${0:,.2f}\".format(due_amount))\n",
    "print(\"Gratuity:\\t\", \"${0:,.2f}\".format(tip_amount))\n",
    "print(\"Split \" + \"(\" + str(people_num) + \"):\\t\", \"${0:,.2f}\".format(split))"
   ]
  }
 ],
 "metadata": {
  "kernelspec": {
   "display_name": "Python 3",
   "language": "python",
   "name": "python3"
  },
  "language_info": {
   "codemirror_mode": {
    "name": "ipython",
    "version": 3
   },
   "file_extension": ".py",
   "mimetype": "text/x-python",
   "name": "python",
   "nbconvert_exporter": "python",
   "pygments_lexer": "ipython3",
   "version": "3.8.8"
  }
 },
 "nbformat": 4,
 "nbformat_minor": 5
}
